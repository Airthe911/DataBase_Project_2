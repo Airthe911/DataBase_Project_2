{
 "cells": [
  {
   "cell_type": "code",
   "execution_count": 6,
   "metadata": {},
   "outputs": [],
   "source": [
    "# 载入所需的包\n",
    "import sqlite3\n",
    "import pymongo"
   ]
  },
  {
   "cell_type": "code",
   "execution_count": 7,
   "metadata": {},
   "outputs": [],
   "source": [
    "# 数据库初始化连接\n",
    "\n",
    "# 垃圾sqlite初始化\n",
    "sqlite_db = sqlite3.connect(\"./fe/data/book_lx.db\")\n",
    "cur_s = sqlite_db.cursor()\n",
    "\n",
    "# 芒果初始化\n",
    "client = pymongo.MongoClient(\"mongodb://localhost:27017/\")\n",
    "db = client['bookstore']\n",
    "cur_m = db['book']"
   ]
  },
  {
   "cell_type": "code",
   "execution_count": 8,
   "metadata": {},
   "outputs": [],
   "source": [
    "def data_construct(line):  \n",
    "    one_data = {  \n",
    "        \"id\": line[0],  \n",
    "        \"title\": line[1],  \n",
    "        \"author\": line[2],  \n",
    "        \"publisher\": line[3],  \n",
    "        \"original_title\": line[4],  \n",
    "        \"translator\": line[5],  \n",
    "        \"pub_year\": line[6],  \n",
    "        \"pages\": line[7],  \n",
    "        \"price\": line[8],  \n",
    "        \"currency_unit\": line[9],  \n",
    "        \"binding\": line[10],  \n",
    "        \"isbn\": line[11],  \n",
    "        \"author_intro\": line[12],  \n",
    "        \"book_intro\": line[13],  \n",
    "        \"content\": line[14],  \n",
    "        \"tags\": line[15],\n",
    "        \"picture\": line[16]\n",
    "    }  \n",
    "    return one_data"
   ]
  },
  {
   "cell_type": "code",
   "execution_count": 9,
   "metadata": {},
   "outputs": [
    {
     "data": {
      "text/plain": [
       "<pymongo.results.InsertManyResult at 0x1f964644540>"
      ]
     },
     "execution_count": 9,
     "metadata": {},
     "output_type": "execute_result"
    }
   ],
   "source": [
    "sql = \"select id, title, author, publisher, original_title, translator, pub_year, pages, price, currency_unit, binding, isbn, author_intro, book_intro, content, tags, picture from book\"\n",
    "result = cur_s.execute(sql)\n",
    "books_data = []  # 储存即将插入mongo的数据\n",
    "for row in result:\n",
    "    books_data.append(data_construct(row))\n",
    "cur_m.insert_many(books_data)"
   ]
  },
  {
   "cell_type": "code",
   "execution_count": 14,
   "metadata": {},
   "outputs": [
    {
     "name": "stdout",
     "output_type": "stream",
     "text": [
      "43988\n"
     ]
    }
   ],
   "source": [
    "content = cur_m.find()\n",
    "count = 0\n",
    "for each in content:\n",
    "    count += 1\n",
    "print(count)"
   ]
  },
  {
   "cell_type": "code",
   "execution_count": 10,
   "metadata": {},
   "outputs": [
    {
     "data": {
      "text/plain": [
       "<pymongo.results.InsertManyResult at 0x1f98cefd340>"
      ]
     },
     "execution_count": 10,
     "metadata": {},
     "output_type": "execute_result"
    }
   ],
   "source": [
    "import sqlite3\n",
    "import pymongo\n",
    "import random\n",
    "\n",
    "def data_construct(store_id, book_id, book_info):\n",
    "    return {\n",
    "        \"store_id\": store_id,\n",
    "        \"book_id\": book_id,\n",
    "        \"book_info\": book_info,\n",
    "        \"stock_level\": random.randint(1, 1000)\n",
    "    }\n",
    "\n",
    "# 数据库初始化连接\n",
    "\n",
    "# SQLite初始化\n",
    "sqlite_db = sqlite3.connect(\"./fe/data/be.db\")\n",
    "cur_s = sqlite_db.cursor()\n",
    "\n",
    "# MongoDB初始化\n",
    "client = pymongo.MongoClient(\"mongodb://localhost:27017/\")\n",
    "db = client['bookstore']\n",
    "\n",
    "# 从SQLite获取所有的store_id\n",
    "sql = \"select store_id from user_store\"\n",
    "store_ids = [row[0] for row in cur_s.execute(sql)]\n",
    "\n",
    "# 从MongoDB获取所有的book_id和tags作为book_info\n",
    "book_collection = db['book']\n",
    "books = list(book_collection.find({}, {\"id\": 1, \"tags\": 1}))\n",
    "\n",
    "book_data = []\n",
    "\n",
    "# 为每个store_id赋予所有的book_id\n",
    "all_books_ids = {book['id'] for book in books}\n",
    "store_books = {store_id: set(all_books_ids) for store_id in store_ids}\n",
    "\n",
    "# 随机选择一些store_id并删除其中的一些book_id\n",
    "selected_store_ids = random.sample(store_ids, k=int(len(store_ids) * 0.5))\n",
    "for store_id in selected_store_ids:\n",
    "    num_to_remove = random.randint(1, len(all_books_ids) - 1)\n",
    "    books_to_remove = random.sample(list(all_books_ids), k=num_to_remove)  # Change made here\n",
    "    store_books[store_id].difference_update(books_to_remove)\n",
    "\n",
    "for store_id, book_ids in store_books.items():\n",
    "    for book_id in book_ids:\n",
    "        book_info = next(b['tags'] for b in books if b['id'] == book_id)\n",
    "        book_data.append(data_construct(store_id, book_id, book_info))\n",
    "\n",
    "db['store'].insert_many(book_data)\n"
   ]
  },
  {
   "cell_type": "code",
   "execution_count": 11,
   "metadata": {},
   "outputs": [
    {
     "data": {
      "text/plain": [
       "<pymongo.results.InsertManyResult at 0x1f8bba7e3c0>"
      ]
     },
     "execution_count": 11,
     "metadata": {},
     "output_type": "execute_result"
    }
   ],
   "source": [
    "# 载入所需的包\n",
    "import sqlite3\n",
    "import pymongo\n",
    "import uuid\n",
    "import random  # 引入random模块\n",
    "\n",
    "\n",
    "def data_construct(order_id, user_id, store_id):  \n",
    "    one_data = {  \n",
    "        \"order_id\": order_id,\n",
    "        \"user_id\": user_id,\n",
    "        \"store_id\": store_id\n",
    "    }  \n",
    "    return one_data\n",
    "\n",
    "\n",
    "# 数据库初始化连接\n",
    "\n",
    "# 垃圾sqlite初始化\n",
    "sqlite_db = sqlite3.connect(\"./fe/data/be.db\")\n",
    "cur_s = sqlite_db.cursor()\n",
    "\n",
    "# 芒果初始化\n",
    "client = pymongo.MongoClient(\"mongodb://localhost:27017/\")\n",
    "db = client['bookstore']\n",
    "cur_m = db['new_order']\n",
    "\n",
    "# 查询所有的user-store组合\n",
    "sql = \"select user_id, store_id from user_store\"\n",
    "user_store_pairs = set(cur_s.execute(sql).fetchall())\n",
    "\n",
    "# 查询所有可能的store_id\n",
    "all_stores = set([item[0] for item in cur_s.execute(\"select distinct store_id from user_store\").fetchall()])\n",
    "\n",
    "books_data = []  # 储存即将插入mongo的数据\n",
    "\n",
    "# 对于每一个user_id，选择一个与其不匹配的store_id\n",
    "for user_id, own_store_id in user_store_pairs:\n",
    "    available_stores = all_stores - {own_store_id}  # 排除掉自己拥有的店铺\n",
    "    chosen_store_id = random.choice(list(available_stores))\n",
    "    \n",
    "    order_id = str(uuid.uuid4())  # 为每条数据生成一个新的UUID\n",
    "    books_data.append(data_construct(order_id, user_id, chosen_store_id))\n",
    "\n",
    "cur_m.insert_many(books_data)"
   ]
  }
 ],
 "metadata": {
  "kernelspec": {
   "display_name": "Python 3.8.18 ('DASE')",
   "language": "python",
   "name": "python3"
  },
  "language_info": {
   "codemirror_mode": {
    "name": "ipython",
    "version": 3
   },
   "file_extension": ".py",
   "mimetype": "text/x-python",
   "name": "python",
   "nbconvert_exporter": "python",
   "pygments_lexer": "ipython3",
   "version": "3.8.18"
  },
  "orig_nbformat": 4,
  "vscode": {
   "interpreter": {
    "hash": "1a87e7a6f2f5a7a24d799b40d6fae0f41be2d1d1bd5ce361aedd69b896401a05"
   }
  }
 },
 "nbformat": 4,
 "nbformat_minor": 2
}
