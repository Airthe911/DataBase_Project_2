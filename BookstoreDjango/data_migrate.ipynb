{
 "cells": [
  {
   "cell_type": "code",
   "execution_count": 11,
   "metadata": {},
   "outputs": [],
   "source": [
    "# 载入所需的包\n",
    "import sqlite3\n",
    "import mysql.connector"
   ]
  },
  {
   "cell_type": "code",
   "execution_count": 24,
   "metadata": {},
   "outputs": [],
   "source": [
    "# 数据库初始化连接\n",
    "cnx = mysql.connector.connect(  \n",
    "    host=\"localhost\",\n",
    "    user=\"root\",\n",
    "    password=\"root\",\n",
    "    database=\"bookstore\"\n",
    ")  \n",
    "sqlite_db = sqlite3.connect(\"C:/Users/Airthe911/Desktop/课程/当代数据管理系统/2023_ECNU_PJ1_第几组/2023_ECNU_PJ1_第几组/bookstore/fe/data/be.db\")\n",
    "\n",
    "# mysql游标\n",
    "cur_m = cnx.cursor()\n",
    "# sqlite游标\n",
    "cur_s = sqlite_db.cursor()"
   ]
  },
  {
   "cell_type": "code",
   "execution_count": 3,
   "metadata": {},
   "outputs": [],
   "source": [
    "# 初始化mysql的user表\n",
    "sql = \"select user_id, password, balance, token, terminal from user\"\n",
    "result = cur_s.execute(sql)\n",
    "data_list = []  # 储存即将插入mysql的数据\n",
    "for row in result:\n",
    "    data_list.append(row)\n",
    "# 插入mysql\n",
    "sql = \"insert into database_user (user_id, password, balance, token, terminal) VALUES (%s, %s, %s, %s, %s)\"\n",
    "cur_m.executemany(sql, data_list)\n",
    "cnx.commit()"
   ]
  },
  {
   "cell_type": "code",
   "execution_count": 4,
   "metadata": {},
   "outputs": [],
   "source": [
    "# 初始化mysql的user2store表\n",
    "sql = \"select user_id, store_id from user_store\"\n",
    "result = cur_s.execute(sql)\n",
    "data_list = []\n",
    "for row in result:\n",
    "    data_list.append(row)\n",
    "# 插入mysql\n",
    "sql = \"insert into database_user2store (user_id, store_id) VALUES (%s, %s)\"\n",
    "cur_m.executemany(sql, data_list)\n",
    "cnx.commit()"
   ]
  },
  {
   "cell_type": "code",
   "execution_count": 25,
   "metadata": {},
   "outputs": [],
   "source": [
    "# 重新加载sqlite数据库，此时转存书籍数据\n",
    "sqlite_db = sqlite3.connect(\"C:/Users/Airthe911/Desktop/课程/当代数据管理系统/2023_ECNU_PJ1_第几组/2023_ECNU_PJ1_第几组/bookstore/fe/data/book.db\")\n",
    "cur_s = sqlite_db.cursor()"
   ]
  },
  {
   "cell_type": "code",
   "execution_count": 26,
   "metadata": {},
   "outputs": [],
   "source": [
    "# 初始化mysql的book数据库\n",
    "sql = \"select id, title, author, publisher, original_title, translator, pub_year, pages, price, currency_unit, binding, isbn, author_intro, book_intro, tags from book\"\n",
    "result = cur_s.execute(sql)\n",
    "books_data = []  # 储存即将插入mongo的数据\n",
    "for row in result:\n",
    "    books_data.append(row)\n",
    "# 插入mysql\n",
    "sql = \"insert into database_book (book_id, title, author, publisher, original_title, translator, pub_year, pages, price, currency_unit, binding, isbn, author_intro, book_intro, tags) VALUES (%s, %s, %s, %s, %s, %s, %s, %s, %s, %s, %s, %s, %s, %s, %s)\"\n",
    "cur_m.executemany(sql, books_data)\n",
    "cnx.commit()"
   ]
  }
 ],
 "metadata": {
  "kernelspec": {
   "display_name": "Python 3.8.18 ('DASE')",
   "language": "python",
   "name": "python3"
  },
  "language_info": {
   "codemirror_mode": {
    "name": "ipython",
    "version": 3
   },
   "file_extension": ".py",
   "mimetype": "text/x-python",
   "name": "python",
   "nbconvert_exporter": "python",
   "pygments_lexer": "ipython3",
   "version": "3.8.18"
  },
  "orig_nbformat": 4,
  "vscode": {
   "interpreter": {
    "hash": "1a87e7a6f2f5a7a24d799b40d6fae0f41be2d1d1bd5ce361aedd69b896401a05"
   }
  }
 },
 "nbformat": 4,
 "nbformat_minor": 2
}
