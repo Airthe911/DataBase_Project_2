{
 "cells": [
  {
   "cell_type": "code",
   "execution_count": 1,
   "metadata": {},
   "outputs": [],
   "source": [
    "# 载入所需的包\n",
    "import sqlite3\n",
    "import pymongo"
   ]
  },
  {
   "cell_type": "code",
   "execution_count": 2,
   "metadata": {},
   "outputs": [],
   "source": [
    "def user_data_construct(line):\n",
    "    one_data = {\n",
    "        \"user_id\": line[0],\n",
    "        \"password\": line[1],\n",
    "        \"balance\": line[2],\n",
    "        \"token\": line[3],\n",
    "        \"terminal\": line[4]\n",
    "    }\n",
    "    return one_data\n",
    "\n",
    "\n",
    "def user_store_data_construct(line):\n",
    "    one_data = {\n",
    "        \"user_id\": line[0],\n",
    "        \"store_id\": line[1],\n",
    "    }\n",
    "    return one_data"
   ]
  },
  {
   "cell_type": "code",
   "execution_count": 6,
   "metadata": {},
   "outputs": [],
   "source": [
    "# 数据库初始化连接\n",
    "\n",
    "sqlite_db = sqlite3.connect(\"./fe/data/be.db\")\n",
    "cur_s = sqlite_db.cursor()\n",
    "client = pymongo.MongoClient(\"mongodb://localhost:27017/\")\n",
    "db = client['bookstore']\n",
    "user = db['user']\n",
    "user_store = db['user_store']"
   ]
  },
  {
   "cell_type": "code",
   "execution_count": 7,
   "metadata": {},
   "outputs": [
    {
     "data": {
      "text/plain": [
       "<pymongo.results.InsertManyResult at 0x2102f9d0300>"
      ]
     },
     "execution_count": 7,
     "metadata": {},
     "output_type": "execute_result"
    }
   ],
   "source": [
    "# user表初始化\n",
    "sql = \"select user_id, password, balance, token, terminal from user\"\n",
    "result = cur_s.execute(sql)\n",
    "data_list = []  # 储存即将插入mongo的数据\n",
    "for row in result:\n",
    "    data_list.append(user_data_construct(row))\n",
    "user.insert_many(data_list)"
   ]
  },
  {
   "cell_type": "code",
   "execution_count": 8,
   "metadata": {},
   "outputs": [
    {
     "data": {
      "text/plain": [
       "<pymongo.results.InsertManyResult at 0x2102fa144c0>"
      ]
     },
     "execution_count": 8,
     "metadata": {},
     "output_type": "execute_result"
    }
   ],
   "source": [
    "# user_store表初始化\n",
    "sql = \"select user_id, store_id from user_store\"\n",
    "result = cur_s.execute(sql)\n",
    "data_list = []\n",
    "for row in result:\n",
    "    data_list.append(user_store_data_construct(row))\n",
    "user_store.insert_many(data_list)"
   ]
  }
 ],
 "metadata": {
  "kernelspec": {
   "display_name": "Python 3.8.18 ('DASE')",
   "language": "python",
   "name": "python3"
  },
  "language_info": {
   "codemirror_mode": {
    "name": "ipython",
    "version": 3
   },
   "file_extension": ".py",
   "mimetype": "text/x-python",
   "name": "python",
   "nbconvert_exporter": "python",
   "pygments_lexer": "ipython3",
   "version": "3.8.18"
  },
  "orig_nbformat": 4,
  "vscode": {
   "interpreter": {
    "hash": "1a87e7a6f2f5a7a24d799b40d6fae0f41be2d1d1bd5ce361aedd69b896401a05"
   }
  }
 },
 "nbformat": 4,
 "nbformat_minor": 2
}
